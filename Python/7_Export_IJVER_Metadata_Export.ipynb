{
 "cells": [
  {
   "attachments": {},
   "cell_type": "markdown",
   "metadata": {},
   "source": [
    "### Export IJVER FC To Shp"
   ]
  },
  {
   "cell_type": "code",
   "execution_count": 14,
   "metadata": {},
   "outputs": [],
   "source": [
    "# Import arcpy module\n",
    "import arcpy\n",
    "import numpy\n",
    "import os\n",
    "import pandas as pd\n",
    "from IPython.display import display, HTML\n",
    "from arcpy import metadata as md\n",
    "\n",
    "import warnings\n",
    "\n",
    "# Suppress all warnings\n",
    "warnings.filterwarnings(\"ignore\")\n"
   ]
  },
  {
   "attachments": {},
   "cell_type": "markdown",
   "metadata": {},
   "source": [
    "### 1) Input Shapefles"
   ]
  },
  {
   "attachments": {},
   "cell_type": "markdown",
   "metadata": {},
   "source": [
    "- Innovataion"
   ]
  },
  {
   "cell_type": "code",
   "execution_count": 24,
   "metadata": {},
   "outputs": [],
   "source": [
    "list_shp = [r\"\\\\WM20ocqu46ph01\\WF_Projects\\NL_IJV\\2_FINAL\\INNOVATION\\INNOVATION.gdb\\NL_IJV_Solar_Buffer_450m_L007_GE250D_DA6_58T_UTM31_v0\",\n",
    "            r\"\\\\WM20ocqu46ph01\\WF_Projects\\NL_IJV\\2_FINAL\\INNOVATION\\INNOVATION.gdb\\NL_IJV_Solar_Buffer_450m_L007_GE250D_DA6_58T_Dynamic_Cable_UTM31_v0\",\n",
    "            r\"\\\\WM20ocqu46ph01\\WF_Projects\\NL_IJV\\2_FINAL\\GRID\\GRID.gdb\\NL_IJV_Beta_EAC_Solar_Dynamic_Cable_L007_250D_DA6_58T_loops_UTM31N_v0\"          \n",
    "                        \n",
    "            ]\n",
    "\n",
    "\n",
    "folder = r\"\\\\WM20ocqu46ph01\\WF_Projects\\NL_IJV\\4_OUTPUT\\_Innovation\"\n",
    "\n",
    "excel_file = r\"\\\\WM20ocqu46ph01\\WF_Projects\\NL_IJV\\5_PROJECTDOCS\\NL_IJV_Dataset_Inventory.xlsx\"\n"
   ]
  },
  {
   "attachments": {},
   "cell_type": "markdown",
   "metadata": {},
   "source": [
    "- 4 sites"
   ]
  },
  {
   "cell_type": "code",
   "execution_count": 5,
   "metadata": {},
   "outputs": [],
   "source": [
    "list_shp = [r\"\\\\WM20ocqu46ph01\\WF_Projects\\NL_IJV\\2_FINAL\\WTG\\WTG.gdb\\NL_IJV_I_WTG_L005_276D_DA6_50T_UTM31N_v1\",\n",
    "            r\"\\\\WM20ocqu46ph01\\WF_Projects\\NL_IJV\\2_FINAL\\WTG\\WTG.gdb\\NL_IJV_II_WTG_L005_276D_DA6_50T_UTM31N_v1\",\n",
    "            r\"\\\\WM20ocqu46ph01\\WF_Projects\\NL_IJV\\2_FINAL\\WTG\\WTG.gdb\\NL_IJV_III_WTG_L005_276D_DA6_50T_UTM31N_v1\",\n",
    "            r\"\\\\WM20ocqu46ph01\\WF_Projects\\NL_IJV\\2_FINAL\\WTG\\WTG.gdb\\NL_IJV_IV_WTG_L005_276D_DA6_50T_UTM31N_v1\"          \n",
    "            \n",
    "            \n",
    "            ]\n",
    "\n",
    "\n",
    "folder = r\"\\\\WM20ocqu46ph01\\WF_Projects\\NL_IJV\\4_OUTPUT\\_WTG_GRID_layouts\""
   ]
  },
  {
   "attachments": {},
   "cell_type": "markdown",
   "metadata": {},
   "source": [
    "### 2) Metadata from excel to GDB"
   ]
  },
  {
   "cell_type": "code",
   "execution_count": 17,
   "metadata": {},
   "outputs": [
    {
     "name": "stdout",
     "output_type": "stream",
     "text": [
      "Input file: NL_IJV_Solar_Buffer_450m_L007_GE250D_DA6_58T_UTM31_v0\n",
      " - imported_title: NL_IJV_Solar_Buffer_450m_L007_GE250D_DA6_58T_UTM31_v0\n",
      " - imported_Date: 2023-10-19 00:00:00\n",
      "Input file: NL_IJV_Solar_Buffer_450m_L007_GE250D_DA6_58T_Dynamic_Cable_UTM31_v0\n",
      " - imported_title: NL_IJV_Solar_Buffer_450m_L007_GE250D_DA6_58T_Dynamic_Cable_UTM31_v0\n",
      " - imported_Date: 2023-10-19 00:00:00\n",
      "Input file: NL_IJV_Beta_EAC_Solar_Dynamic_Cable_L007_250D_DA6_58T_loops_UTM31N_v0\n",
      " - imported_title: NL_IJV_Beta_EAC_Solar_Dynamic_Cable_L007_250D_DA6_58T_loops_UTM31N_v0\n",
      " - imported_Date: 2023-10-19 00:00:00\n"
     ]
    }
   ],
   "source": [
    "\n",
    "# String to search for\n",
    "df = pd.read_excel(excel_file)\n",
    "\n",
    "for i in list_shp:\n",
    "    if arcpy.Exists(i):\n",
    "        \n",
    "        search_string = i.split(os.path.sep)[-1]\n",
    "        filtered_df = df[df[\"Full Name\"] == search_string]\n",
    "        print('Input file:',search_string )\n",
    "\n",
    "        if not filtered_df.empty:\n",
    "            # Get the text from text_column in the same row\n",
    "            imported_title = filtered_df.iloc[0][\"Full Name\"]\n",
    "            imported_summary = filtered_df.iloc[0][\"Summary\"]\n",
    "            imported_tags = filtered_df.iloc[0][\"Tags\"]\n",
    "            imported_Description = filtered_df.iloc[0][\"Description\"]\n",
    "            imported_Credits = filtered_df.iloc[0][\"Credits\"]\n",
    "            imported_Date = str(filtered_df.iloc[0][\"Date Created\"])\n",
    "\n",
    "            imported_Description = imported_Description + \"\\n\" + imported_Date\n",
    "\n",
    "            # Print or use the imported_text as needed\n",
    "            print(\" - imported_title:\", imported_title)\n",
    "            print(\" - imported_Date:\", imported_Date)\n",
    "\n",
    "        else:\n",
    "            print(\"Search string not found in the specified column!!\")\n",
    "\n",
    "        # Create a new Metadata object and add some content to it\n",
    "        new_md = md.Metadata()\n",
    "        new_md.title = imported_title\n",
    "        new_md.tags = imported_tags\n",
    "        new_md.summary = imported_summary\n",
    "        new_md.description = imported_Description\n",
    "        new_md.credits = imported_Credits\n",
    "\n",
    "        # Assign the Metadata object's content to a target item\n",
    "        tgt_item_md = md.Metadata(i)\n",
    "        if not tgt_item_md.isReadOnly:\n",
    "            tgt_item_md.copy(new_md)\n",
    "            tgt_item_md.save()\n"
   ]
  },
  {
   "attachments": {},
   "cell_type": "markdown",
   "metadata": {},
   "source": [
    "### 3) Your New Alias Name"
   ]
  },
  {
   "cell_type": "code",
   "execution_count": 22,
   "metadata": {},
   "outputs": [
    {
     "name": "stdout",
     "output_type": "stream",
     "text": [
      "Alias'NL IJV Solar Buffer 450m L007 GE250D DA6 58T UTM31 v0' to 'NL IJV Solar Buffer 450m L007 GE250D DA6 58T UTM31 v0' successfully.\n",
      "Alias'NL IJV Solar Buffer 450m L007 GE250D DA6 58T Dynamic Cable UTM31 v0' to 'NL IJV Solar Buffer 450m L007 GE250D DA6 58T Dynamic Cable UTM31 v0' successfully.\n",
      "Alias'NL IJV Beta EAC Solar Dynamic Cable L007 250D DA6 58T loops UTM31N v0' to 'NL IJV Beta EAC Solar Dynamic Cable L007 250D DA6 58T loops UTM31N v0' successfully.\n"
     ]
    }
   ],
   "source": [
    "for i in list_shp:\n",
    "    if arcpy.Exists(i):\n",
    "        desc = arcpy.Describe(i)\n",
    "        old_alias = desc.aliasName\n",
    "        fc = i.split(os.path.sep)[-1]\n",
    "        new_alias = fc.replace(\"_\", \" \")\n",
    "\n",
    "    try:\n",
    "        # Set the new alias name for the feature class\n",
    "        arcpy.AlterAliasName(i, new_alias)\n",
    "        print(f\"Alias'{old_alias}' to '{new_alias}' successfully.\")\n",
    "\n",
    "    except Exception as e:\n",
    "        print(f\"An error occurred: {str(e)}\")"
   ]
  },
  {
   "cell_type": "markdown",
   "metadata": {},
   "source": []
  },
  {
   "attachments": {},
   "cell_type": "markdown",
   "metadata": {},
   "source": [
    "2) Export FC to SHP"
   ]
  },
  {
   "cell_type": "code",
   "execution_count": 25,
   "metadata": {},
   "outputs": [
    {
     "name": "stdout",
     "output_type": "stream",
     "text": [
      "Input file: \\\\WM20ocqu46ph01\\WF_Projects\\NL_IJV\\2_FINAL\\INNOVATION\\INNOVATION.gdb\\NL_IJV_Solar_Buffer_450m_L007_GE250D_DA6_58T_UTM31_v0\n",
      "- Shapefile '\\\\WM20ocqu46ph01\\WF_Projects\\NL_IJV\\4_OUTPUT\\_Innovation\\NL_IJV_Solar_Buffer_450m_L007_GE250D_DA6_58T_UTM31_v0\\NL_IJV_Solar_Buffer_450m_L007_GE250D_DA6_58T_UTM31_v0.shp' created successfully.\n",
      "Input file: \\\\WM20ocqu46ph01\\WF_Projects\\NL_IJV\\2_FINAL\\INNOVATION\\INNOVATION.gdb\\NL_IJV_Solar_Buffer_450m_L007_GE250D_DA6_58T_Dynamic_Cable_UTM31_v0\n",
      "- Shapefile '\\\\WM20ocqu46ph01\\WF_Projects\\NL_IJV\\4_OUTPUT\\_Innovation\\NL_IJV_Solar_Buffer_450m_L007_GE250D_DA6_58T_Dynamic_Cable_UTM31_v0\\NL_IJV_Solar_Buffer_450m_L007_GE250D_DA6_58T_Dynamic_Cable_UTM31_v0.shp' created successfully.\n",
      "Input file: \\\\WM20ocqu46ph01\\WF_Projects\\NL_IJV\\2_FINAL\\GRID\\GRID.gdb\\NL_IJV_Beta_EAC_Solar_Dynamic_Cable_L007_250D_DA6_58T_loops_UTM31N_v0\n",
      "- Shapefile '\\\\WM20ocqu46ph01\\WF_Projects\\NL_IJV\\4_OUTPUT\\_Innovation\\NL_IJV_Beta_EAC_Solar_Dynamic_Cable_L007_250D_DA6_58T_loops_UTM31N_v0\\NL_IJV_Beta_EAC_Solar_Dynamic_Cable_L007_250D_DA6_58T_loops_UTM31N_v0.shp' created successfully.\n"
     ]
    }
   ],
   "source": [
    "for i in list_shp:\n",
    "    print('Input file:', i)\n",
    "    fc_name = i.split(os.path.sep)[-1]\n",
    "\n",
    "    if fc_name:\n",
    "        name_shp = fc_name + \".shp\"\n",
    "        output_shp = os.path.join(folder, fc_name, fc_name+ \".shp\")\n",
    "        folder_shp = os.path.join(folder, fc_name)\n",
    "        if not os.path.exists(folder_shp):\n",
    "            os.makedirs(folder_shp)\n",
    "        if not os.path.exists(output_shp):\n",
    "            arcpy.FeatureClassToFeatureClass_conversion(i, folder_shp, name_shp)\n",
    "            print(f\"- Shapefile '{output_shp}' created successfully.\")\n"
   ]
  },
  {
   "attachments": {},
   "cell_type": "markdown",
   "metadata": {},
   "source": [
    "### 3) calculate the centroid of polygons (Buffer) to Attri"
   ]
  },
  {
   "cell_type": "code",
   "execution_count": 54,
   "metadata": {},
   "outputs": [
    {
     "name": "stdout",
     "output_type": "stream",
     "text": [
      "Input file: \\\\WM20ocqu46ph01\\WF_Projects\\NL_IJV\\2_FINAL\\INNOVATION\\INNOVATION.gdb\\NL_IJV_Solar_Buffer_450m_L007_GE250D_DA6_58T_UTM31_v0\n",
      "[(547288.7, 5859119.2), (548008.7, 5857897.3), (542382.0, 5855561.5), (539786.5, 5857026.5), (538067.0, 5858088.0), (533204.5, 5861202.0), (534589.0, 5860994.5), (530685.0, 5865414.5), (531748.5, 5868249.0), (533228.0, 5869841.0), (539693.5, 5867528.5)]\n"
     ]
    }
   ],
   "source": [
    "# Spatial reference (Coordinate system) - 25831 in this case\n",
    "sr = arcpy.SpatialReference(25831)\n",
    "\n",
    "# Create a list to store centroid coordinates\n",
    "centroid_coords_list = []\n",
    "\n",
    "list_shp = [r\"\\\\WM20ocqu46ph01\\WF_Projects\\NL_IJV\\2_FINAL\\INNOVATION\\INNOVATION.gdb\\NL_IJV_Solar_Buffer_450m_L007_GE250D_DA6_58T_UTM31_v0\",\n",
    "            \n",
    "            ]\n",
    "\n",
    "\n",
    "# Iterate through the polygons and calculate centroids\n",
    "for i in list_shp:\n",
    "    print('Input file:', i)\n",
    "    field_list = [field.name for field in arcpy.ListFields(i)]\n",
    "\n",
    "    del_fields = [\"Centroid_X\", \"Centroid_Y\",\"X_ETRS_UTM31\", \"Y_ETRS_UTM31\"]\n",
    "    arcpy.DeleteField_management(i, del_fields)\n",
    "\n",
    "    if not \"Centroid_X\" in field_list:\n",
    "        # Rename the fields POINT_X and POINT_Y to X_COORD and Y_COORD\n",
    "        arcpy.AddField_management(i, \"Centroid_X\", \"DOUBLE\")\n",
    "        arcpy.AddField_management(i, \"Centroid_Y\", \"DOUBLE\")\n",
    "\n",
    "        # Rename the fields POINT_X and POINT_Y to X_COORD and Y_COORD\n",
    "        arcpy.AlterField_management(i, \"Centroid_X\", \"X_ETRS_UTM31\", \"Easting [ETRS 1989 UTM31] \")\n",
    "        arcpy.AlterField_management(i, \"Centroid_Y\", \"Y_ETRS_UTM31\", \"Northing [ETRS 1989 UTM31]\")\n",
    "\n",
    "    fc_name = i.split(os.path.sep)[-1]\n",
    "\n",
    "    # Iterate through the polygons and calculate centroids\n",
    "    with arcpy.da.SearchCursor(i, [\"SHAPE@\", \"SHAPE@XY\"]) as cursor:\n",
    "        for row in cursor:\n",
    "            polygon_geometry = row[0]\n",
    "            centroid_x, centroid_y = row[1]\n",
    "            \n",
    "\n",
    "            # Add coordinates to the list\n",
    "            centroid_coords_list.append(((round(centroid_x,1)),round(centroid_y,1)))\n",
    "                                        \n",
    "    print(centroid_coords_list)\n",
    "    # Update the attribute table with centroid coordinates\n",
    "    with arcpy.da.UpdateCursor(i, [\"SHAPE@\", \"X_ETRS_UTM31\", \"Y_ETRS_UTM31\"]) as update_cursor:\n",
    "        for row, centroid_coords in zip(update_cursor, centroid_coords_list):\n",
    "            row[1] = centroid_coords[0]\n",
    "            row[2] = centroid_coords[1]\n",
    "            update_cursor.updateRow(row)\n"
   ]
  },
  {
   "attachments": {},
   "cell_type": "markdown",
   "metadata": {},
   "source": [
    "3) Export FC to Excel"
   ]
  },
  {
   "cell_type": "code",
   "execution_count": 55,
   "metadata": {},
   "outputs": [
    {
     "name": "stdout",
     "output_type": "stream",
     "text": [
      "Input file: \\\\WM20ocqu46ph01\\WF_Projects\\NL_IJV\\2_FINAL\\INNOVATION\\INNOVATION.gdb\\NL_IJV_Solar_Buffer_450m_L007_GE250D_DA6_58T_UTM31_v0\n"
     ]
    }
   ],
   "source": [
    "for i in list_shp:\n",
    "    print('Input file:', i)\n",
    "    fc_name = i.split(os.path.sep)[-1]\n",
    "\n",
    "    if fc_name:\n",
    "    \n",
    "        output_excel = os.path.join(folder, fc_name, fc_name + \".xlsx\")\n",
    "        folder_excel = os.path.join(folder, fc_name)\n",
    "\n",
    "        if not os.path.exists(folder_excel):\n",
    "            os.makedirs(folder_excel)\n",
    "            # Export attribute table to Excel\n",
    "        if not os.path.exists(output_excel):\n",
    "            arcpy.TableToExcel_conversion(i, output_excel)\n",
    "            print(f\"- Excel '{output_excel}' created successfully.\")\n"
   ]
  },
  {
   "attachments": {},
   "cell_type": "markdown",
   "metadata": {},
   "source": [
    "4) Export FC to DWG"
   ]
  },
  {
   "cell_type": "code",
   "execution_count": 56,
   "metadata": {},
   "outputs": [
    {
     "name": "stdout",
     "output_type": "stream",
     "text": [
      "Input file: \\\\WM20ocqu46ph01\\WF_Projects\\NL_IJV\\2_FINAL\\INNOVATION\\INNOVATION.gdb\\NL_IJV_Solar_Buffer_450m_L007_GE250D_DA6_58T_UTM31_v0\n",
      "- DWG '\\\\WM20ocqu46ph01\\WF_Projects\\NL_IJV\\4_OUTPUT\\_Innovation\\NL_IJV_Solar_Buffer_450m_L007_GE250D_DA6_58T_UTM31_v0_DWG' created successfully.\n"
     ]
    }
   ],
   "source": [
    "for i in list_shp:\n",
    "    print('Input file:', i)\n",
    "    fc_name = i.split(os.path.sep)[-1]\n",
    "\n",
    "    if fc_name:\n",
    "        # Output DWG file\n",
    "        dwg_folder = os.path.join(folder, fc_name + '_DWG')\n",
    "        dwg_output = os.path.join(dwg_folder, fc_name +'.dwg')\n",
    "        if not os.path.exists(dwg_folder):\n",
    "            os.makedirs(dwg_folder)\n",
    "        if not os.path.exists(dwg_output):\n",
    "            arcpy.conversion.ExportCAD(output_shp, \"DWG_R2018\", dwg_output, False, False)\n",
    "            print(f\"- DWG '{dwg_folder}' created successfully.\")\n"
   ]
  },
  {
   "cell_type": "markdown",
   "metadata": {},
   "source": []
  }
 ],
 "metadata": {
  "kernelspec": {
   "display_name": "Python 3",
   "language": "python",
   "name": "python3"
  },
  "language_info": {
   "codemirror_mode": {
    "name": "ipython",
    "version": 3
   },
   "file_extension": ".py",
   "mimetype": "text/x-python",
   "name": "python",
   "nbconvert_exporter": "python",
   "pygments_lexer": "ipython3",
   "version": "3.9.16"
  },
  "vscode": {
   "interpreter": {
    "hash": "ce21b655b4d6c9e397d5ad93d5666c623f49909f6d0cc2f72076dafcf1b3ecfb"
   }
  }
 },
 "nbformat": 4,
 "nbformat_minor": 2
}
